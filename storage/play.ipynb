{
 "cells": [
  {
   "cell_type": "code",
   "execution_count": 2,
   "metadata": {},
   "outputs": [],
   "source": [
    "import pandas as pd\n",
    "res = pd.read_csv(\"predictions.csv\")\n",
    "data = {}\n",
    "t = len(res[res[\"prediction\"]==1])\n",
    "f = res.shape[0] - t\n",
    "t_per = t/res.shape[0]\n",
    "f_per = 1-t_per\n",
    "\n",
    "data[\"pos_pairs\"] = t\n",
    "data[\"neg_pairs\"] = f\n",
    "data[\"pos_per\"]= t_per\n",
    "data[\"neg_per\"] = f_per"
   ]
  },
  {
   "cell_type": "code",
   "execution_count": 50,
   "metadata": {},
   "outputs": [
    {
     "name": "stdout",
     "output_type": "stream",
     "text": [
      "\n",
      "Numnber of clone pairs: 3\n",
      "Number of non-clone pairs: 3\n",
      "Percentage of clone pairs: 0.5\n",
      "Percentege of non-clone pairs: 0.5\n"
     ]
    }
   ],
   "source": [
    "formatted_string = f\"\\nNumnber of clone pairs: {data['pos_pairs']}\\nNumber of non-clone pairs: {data['neg_pairs']}\\nPercentage of clone pairs: {data['pos_per']}\\nPercentege of non-clone pairs: {data['neg_per']}\"\n",
    "print(formatted_string)"
   ]
  },
  {
   "cell_type": "code",
   "execution_count": 33,
   "metadata": {},
   "outputs": [],
   "source": []
  },
  {
   "cell_type": "code",
   "execution_count": 34,
   "metadata": {},
   "outputs": [],
   "source": []
  },
  {
   "cell_type": "code",
   "execution_count": 38,
   "metadata": {},
   "outputs": [
    {
     "data": {
      "text/plain": [
       "{'pos_pairs': 3, 'neg_pairs': 3, 'pos_per': 0.5, 'neg_per': 0.5}"
      ]
     },
     "execution_count": 38,
     "metadata": {},
     "output_type": "execute_result"
    }
   ],
   "source": [
    "data"
   ]
  },
  {
   "cell_type": "code",
   "execution_count": null,
   "metadata": {},
   "outputs": [],
   "source": []
  }
 ],
 "metadata": {
  "kernelspec": {
   "display_name": "venv",
   "language": "python",
   "name": "python3"
  },
  "language_info": {
   "codemirror_mode": {
    "name": "ipython",
    "version": 3
   },
   "file_extension": ".py",
   "mimetype": "text/x-python",
   "name": "python",
   "nbconvert_exporter": "python",
   "pygments_lexer": "ipython3",
   "version": "3.10.6"
  },
  "orig_nbformat": 4
 },
 "nbformat": 4,
 "nbformat_minor": 2
}

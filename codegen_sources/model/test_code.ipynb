{
 "cells": [
  {
   "cell_type": "code",
   "execution_count": 1,
   "outputs": [],
   "source": [
    "import os\n",
    "\n",
    "import pandas as pd"
   ],
   "metadata": {
    "collapsed": false,
    "pycharm": {
     "name": "#%%\n"
    }
   }
  },
  {
   "cell_type": "code",
   "execution_count": 2,
   "outputs": [
    {
     "name": "stdout",
     "output_type": "stream",
     "text": [
      "True\n",
      "../../storage/test_read/4738062.java ../../storage/test_write/aug_4738062.py\n",
      "True\n",
      "../../storage/test_read/4923284.py ../../storage/test_write/aug_4923284..java\n",
      "True\n",
      "../../storage/test_read/dir1/4742492.java ../../storage/test_write/dir1/aug_4742492.py\n",
      "True\n",
      "../../storage/test_read/dir1/dr2/4723054.java ../../storage/test_write/dir1/dr2/aug_4723054.py\n"
     ]
    }
   ],
   "source": [
    "path = '../../storage/test_read'\n",
    "wp = '../../storage/test_write'\n",
    "python_path = []\n",
    "java_path = []\n",
    "for (rt,dr,files) in os.walk(path, topdown=True):\n",
    "        for file in files:\n",
    "            ext = file.split('.')[1]\n",
    "            file_path=rt+'/'+file\n",
    "            aug_rt = rt.replace('test_read', 'test_write')\n",
    "            aug_file_path = aug_rt+'/'+'aug_'+file\n",
    "\n",
    "            rc = open(file_path).read().strip()\n",
    "            wrc = rc\n",
    "\n",
    "            if ext=='py':\n",
    "                aug_file_path = aug_file_path[:-2]+'.java'\n",
    "                if not os.path.exists(aug_rt):\n",
    "                    os.makedirs(aug_rt)#aug_4738062.py\n",
    "\n",
    "                if not os.path.isfile(aug_file_path):\n",
    "                    f = open(aug_file_path, \"w\")\n",
    "                    f.write(wrc)\n",
    "                    f.close()\n",
    "                else:\n",
    "                    print(os.path.isfile(aug_file_path))\n",
    "\n",
    "                print(file_path , aug_file_path)\n",
    "                #python_path.append(file_path)\n",
    "            elif ext=='java':\n",
    "                aug_file_path = aug_file_path[:-4]+'py'\n",
    "                if not os.path.exists(aug_rt):\n",
    "                    os.makedirs(aug_rt)\n",
    "                if not os.path.isfile(aug_file_path):\n",
    "                    f = open(aug_file_path, \"w\")\n",
    "                    f.write(wrc)\n",
    "                    f.close()\n",
    "                else:\n",
    "                    print(os.path.isfile(aug_file_path))\n",
    "                print(file_path , aug_file_path)\n",
    "                #java_path.append(file_path)"
   ],
   "metadata": {
    "collapsed": false,
    "pycharm": {
     "name": "#%%\n"
    }
   }
  },
  {
   "cell_type": "markdown",
   "source": [
    "import pandas as pd\n",
    "pd.DataFrame(python_path, columns=['path']).to_csv('python_path.csv', header=None, index=False)"
   ],
   "metadata": {
    "collapsed": false,
    "pycharm": {
     "name": "#%% md\n"
    }
   }
  },
  {
   "cell_type": "markdown",
   "source": [
    "pd.DataFrame(java_path, columns=['path']).to_csv('java_path.csv', header=None, index=False)"
   ],
   "metadata": {
    "collapsed": false,
    "pycharm": {
     "name": "#%% md\n"
    }
   }
  },
  {
   "cell_type": "markdown",
   "source": [
    "len(python_path)"
   ],
   "metadata": {
    "collapsed": false,
    "pycharm": {
     "name": "#%% md\n"
    }
   }
  },
  {
   "cell_type": "markdown",
   "source": [
    "len(java_path)"
   ],
   "metadata": {
    "collapsed": false,
    "pycharm": {
     "name": "#%% md\n"
    }
   }
  },
  {
   "cell_type": "code",
   "execution_count": 11,
   "outputs": [],
   "source": [],
   "metadata": {
    "collapsed": false,
    "pycharm": {
     "name": "#%%\n"
    }
   }
  }
 ],
 "metadata": {
  "kernelspec": {
   "display_name": "Python 3",
   "language": "python",
   "name": "python3"
  },
  "language_info": {
   "codemirror_mode": {
    "name": "ipython",
    "version": 2
   },
   "file_extension": ".py",
   "mimetype": "text/x-python",
   "name": "python",
   "nbconvert_exporter": "python",
   "pygments_lexer": "ipython2",
   "version": "2.7.6"
  }
 },
 "nbformat": 4,
 "nbformat_minor": 0
}